{
 "cells": [
  {
   "cell_type": "markdown",
   "metadata": {},
   "source": [
    "# Описание\n",
    "Простейший пример ООП в Python, в которой присутствует интересная формула вычисления позиции точек на окне, которая рисовала некое подобие **водоворота**\n",
    "$$\\Huge\n",
    "\\begin{array}{l}\n",
    "x\\to x+\\cos{\\left(y\\cdot\\frac{\\pi}{180}\\right)};\\\\\n",
    "y\\to y+\\sin{\\left(x\\cdot\\frac{\\pi}{180}\\right)}.\\\\\n",
    "\\end{array}\n",
    "$$"
   ]
  },
  {
   "cell_type": "markdown",
   "metadata": {},
   "source": [
    "$$\\Huge\n",
    "\\begin{array}{l}\n",
    "x\\to x+\\cos{\\left(y\\cdot\\frac{\\pi}{180}\\right)}+\\dfrac{\\cos{\\left(3y\\cdot\\frac{\\pi}{180}\\right)}}{2};\\\\\n",
    "y\\to y+\\sin{\\left(x\\cdot\\frac{\\pi}{180}\\right)}+\\dfrac{\\sin{\\left(3x\\cdot\\frac{\\pi}{180}\\right)}}{2};\\\\\n",
    "\\end{array}\n",
    "$$"
   ]
  },
  {
   "cell_type": "markdown",
   "metadata": {},
   "source": [
    "$$\\Huge\n",
    "\\begin{array}{l}\n",
    "x\\to x+\\cos{\\left(y\\cdot\\frac{\\pi}{180}\\right)}+0.6;\\\\\n",
    "y\\to y+\\sin{\\left(x\\cdot\\frac{\\pi}{180}\\right)}.\\\\\n",
    "x\\to 0, x>\\text{width}\n",
    "\\end{array}\n",
    "$$"
   ]
  },
  {
   "cell_type": "code",
   "execution_count": 1,
   "metadata": {},
   "outputs": [
    {
     "name": "stdout",
     "output_type": "stream",
     "text": [
      "pygame 2.5.2 (SDL 2.28.3, Python 3.12.3)\n",
      "Hello from the pygame community. https://www.pygame.org/contribute.html\n"
     ]
    }
   ],
   "source": [
    "import pygame as pg\n",
    "from random import randint as rd\n",
    "from math import sin, cos, radians, floor"
   ]
  },
  {
   "cell_type": "code",
   "execution_count": 2,
   "metadata": {},
   "outputs": [],
   "source": [
    "WIN_SIZE = (1024, 768)"
   ]
  },
  {
   "cell_type": "code",
   "execution_count": null,
   "metadata": {},
   "outputs": [],
   "source": [
    "class Particle():\n",
    "    lst = []\n",
    "    def __init__(self, pos, radius, color):\n",
    "        self.pos = pos\n",
    "        self.radius = radius\n",
    "        self.color = color\n",
    "        Particle.lst.append(self)\n",
    "    def clear():\n",
    "        Particle.lst = []    \n",
    "    def generate(count = 10, width = 5):\n",
    "        for i in range(count):\n",
    "            Particle(\n",
    "                [rd(0, WIN_SIZE[0]), rd(0, WIN_SIZE[1])],\n",
    "                width,\n",
    "                (rd(0, 255), rd(0, 255), rd(0, 255)),\n",
    "            )\n",
    "    def generateGrid(gridX = 50, gridY = 50, width = 5):\n",
    "        for x in range(gridX + 1):\n",
    "            for y in range(gridY + 1):\n",
    "                Particle(\n",
    "                        [\n",
    "                            x * WIN_SIZE[0] / gridX, \n",
    "                            y * WIN_SIZE[1] / gridY\n",
    "                        ],\n",
    "                        width,\n",
    "                        (\n",
    "                            (gridY - y) * floor(256 / gridY), \n",
    "                            x * floor(256 / gridX), \n",
    "                            y * floor(256 / gridY)\n",
    "                        )\n",
    "                )\n",
    "    def render(surf):\n",
    "        for obj in Particle.lst:\n",
    "            pg.draw.circle(surf, obj.color, obj.pos, obj.radius)\n",
    "    def update():\n",
    "        for obj in Particle.lst:\n",
    "            obj.pos[0] += cos(radians(obj.pos[1]))\n",
    "            obj.pos[1] += sin(radians(obj.pos[0]))\n",
    "    def update2():\n",
    "        for obj in Particle.lst:\n",
    "            obj.pos[0] += cos(radians(obj.pos[1])) + 2 * cos(3*radians(obj.pos[1]))\n",
    "            obj.pos[1] += sin(radians(obj.pos[0])) + 2 * sin(3*radians(obj.pos[0]))\n",
    "    def update3():\n",
    "        for obj in Particle.lst:\n",
    "            obj.pos[0] += cos(radians(obj.pos[1])) + 1\n",
    "            obj.pos[1] += sin(radians(obj.pos[0]))\n",
    "            if obj.pos[0] > WIN_SIZE[0]: obj.pos[0] = 0"
   ]
  },
  {
   "cell_type": "code",
   "execution_count": null,
   "metadata": {},
   "outputs": [],
   "source": [
    "root = pg.display.set_mode(WIN_SIZE)\n",
    "clk = pg.time.Clock()\n",
    "run = True\n",
    "\n",
    "fade = pg.Surface(WIN_SIZE, pg.SRCALPHA)\n",
    "fade.fill((0,0,0))\n",
    "fade.set_alpha(10)\n",
    "\n",
    "Particle.clear()\n",
    "Particle.generateGrid(gridX = 50, gridY = 50, width = 4)\n",
    "\n",
    "while run:\n",
    "    for event in pg.event.get():\n",
    "        if event.type == pg.QUIT or (event.type == pg.KEYDOWN and event.key == pg.K_ESCAPE):\n",
    "            run = False\n",
    "        if event.type == pg.KEYDOWN and event.key == pg.K_SPACE:\n",
    "            pg.image.save(root, \"WhirlpoolScreenShot2.png\")\n",
    "\n",
    "    Particle.render(root)\n",
    "    Particle.update3()\n",
    "    root.blit(fade, (0,0))\n",
    "\n",
    "    for i in range(10):\n",
    "        pg.draw.line(root, (255,255,255),\n",
    "                    (0,90*i), (WIN_SIZE[0],90*i))\n",
    "        pg.draw.line(root, (255,255,255),\n",
    "                    (90*i,0), (90*i,WIN_SIZE[1]))\n",
    "\n",
    "    pg.display.flip()\n",
    "    clk.tick(60)\n",
    "pg.quit()"
   ]
  },
  {
   "cell_type": "markdown",
   "metadata": {},
   "source": [
    "![1](WhirlpoolScreenShot.png)\n",
    "![2](WhirlpoolScreenShot2.png)"
   ]
  }
 ],
 "metadata": {
  "kernelspec": {
   "display_name": "Python 3",
   "language": "python",
   "name": "python3"
  },
  "language_info": {
   "codemirror_mode": {
    "name": "ipython",
    "version": 3
   },
   "file_extension": ".py",
   "mimetype": "text/x-python",
   "name": "python",
   "nbconvert_exporter": "python",
   "pygments_lexer": "ipython3",
   "version": "3.12.3"
  }
 },
 "nbformat": 4,
 "nbformat_minor": 2
}
