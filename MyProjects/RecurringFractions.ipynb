{
 "cells": [
  {
   "cell_type": "code",
   "execution_count": null,
   "metadata": {},
   "outputs": [],
   "source": [
    "n = int(input(\"введите числитель\"))\n",
    "m = int(input(\"введите знаменатель\"))\n",
    "z=[]\n",
    "while (n>m):\n",
    "    z.append(n//m)\n",
    "    n -= n-m*(n//m)\n",
    "    n, m = m, n\n",
    "print(z)"
   ]
  }
 ],
 "metadata": {
  "language_info": {
   "name": "python"
  }
 },
 "nbformat": 4,
 "nbformat_minor": 2
}
