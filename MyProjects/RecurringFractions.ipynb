{
 "cells": [
  {
   "cell_type": "code",
   "execution_count": 1,
   "metadata": {},
   "outputs": [],
   "source": [
    "def reccur(n, m):\n",
    "    z=[]\n",
    "    while (n != 0 and m != 0):\n",
    "        z.append(n//m)\n",
    "        n = n-m*(n//m)\n",
    "        n, m = m, n\n",
    "    return z"
   ]
  },
  {
   "cell_type": "code",
   "execution_count": 4,
   "metadata": {},
   "outputs": [
    {
     "name": "stdout",
     "output_type": "stream",
     "text": [
      "[148, 10, 1, 2, 4, 16, 5, 1, 1, 1, 5, 1, 29, 3, 2, 1, 6, 2, 1, 1, 6, 2, 316]\n"
     ]
    }
   ],
   "source": [
    "n = int(input(\"введите числитель\"))\n",
    "m = int(input(\"введите знаменатель\"))\n",
    "\n",
    "print(reccur(n, m))"
   ]
  },
  {
   "cell_type": "code",
   "execution_count": 5,
   "metadata": {},
   "outputs": [
    {
     "name": "stdout",
     "output_type": "stream",
     "text": [
      "124123412341212331032707072 100000000000000\n",
      "[1241234123412, 8, 9, 8, 5, 1, 3, 2, 4, 2, 1, 1, 41, 1, 4, 1, 9, 1, 2]\n"
     ]
    }
   ],
   "source": [
    "a = input(\"введите вещественное число\")\n",
    "m = 10**len(a.split(\".\")[1])\n",
    "n = int(float(a)*m)\n",
    "print(n, m)\n",
    "print(reccur(n,m))"
   ]
  },
  {
   "cell_type": "code",
   "execution_count": 3,
   "metadata": {},
   "outputs": [
    {
     "name": "stdout",
     "output_type": "stream",
     "text": [
      "26457513110645908 10000000000000000\n",
      "[2, 1, 1, 1, 4, 1, 1, 1, 4, 1, 1, 1, 4, 1, 1, 1, 4, 1, 1, 1, 4, 1, 1, 1, 4, 1, 2, 2, 1, 3, 7, 2, 8, 12, 1, 2, 11, 23, 1, 2]\n"
     ]
    }
   ],
   "source": [
    "import math as m\n",
    "a = str(m.sqrt(7))\n",
    "m = 10**len(a.split(\".\")[1])\n",
    "n = int(float(a)*m)\n",
    "print(n, m)\n",
    "z=[]\n",
    "while (n != 0 and m!=0):\n",
    "    z.append(n//m)\n",
    "    n = n-m*(n//m)\n",
    "    n, m = m, n\n",
    "print(z)"
   ]
  },
  {
   "cell_type": "code",
   "execution_count": 1,
   "metadata": {},
   "outputs": [
    {
     "name": "stdout",
     "output_type": "stream",
     "text": [
      "[1, 1, 2, 3, 5, 8, 13, 21, 34, 55, 89, 144, 233, 377, 610, 987, 1597, 2584, 4181, 6765, 10946, 17711, 28657, 46368, 75025, 121393, 196418, 317811, 514229, 832040, 1346269, 2178309, 3524578, 5702887, 9227465, 14930352, 24157817, 39088169, 63245986, 102334155, 165580141, 267914296, 433494437, 701408733, 1134903170, 1836311903, 2971215073, 4807526976, 7778742049, 12586269025, 20365011074, 32951280099, 53316291173, 86267571272, 139583862445, 225851433717, 365435296162, 591286729879, 956722026041, 1548008755920, 2504730781961, 4052739537881, 6557470319842, 10610209857723, 17167680177565, 27777890035288, 44945570212853, 72723460248141, 117669030460994, 190392490709135, 308061521170129, 498454011879264, 806515533049393, 1304969544928657, 2111485077978050, 3416454622906707, 5527939700884757, 8944394323791464, 14472334024676221, 23416728348467685, 37889062373143906, 61305790721611591, 99194853094755497, 160500643816367088, 259695496911122585, 420196140727489673, 679891637638612258, 1100087778366101931, 1779979416004714189, 2880067194370816120, 4660046610375530309, 7540113804746346429, 12200160415121876738, 19740274219868223167, 31940434634990099905, 51680708854858323072, 83621143489848422977, 135301852344706746049, 218922995834555169026, 354224848179261915075]\n",
      "1.6981562788972284\n"
     ]
    }
   ],
   "source": [
    "z=[]\n",
    "# ------- fibonacci\n",
    "a,b = 1,1\n",
    "for i in range(100):\n",
    "    z.append(a)\n",
    "    a, b = b, a+b\n",
    "\n",
    "# ------- prime\n",
    "# def Prime(a):\n",
    "#     flag=True\n",
    "#     for i in range(2,a):\n",
    "#         if a%i==0 and i!=a:\n",
    "#             flag=False\n",
    "#             break\n",
    "#     return flag\n",
    "\n",
    "# for i in range(2,100):\n",
    "#     if Prime(i):\n",
    "#         z.append(i)\n",
    "\n",
    "# z=[1]+[2 for i in range(100)]\n",
    "print(z)\n",
    "s=z[-1]\n",
    "for i in z[-2::-1]:\n",
    "    s = (i + 1/s)\n",
    "print(s)"
   ]
  },
  {
   "cell_type": "code",
   "execution_count": 5,
   "metadata": {},
   "outputs": [
    {
     "name": "stdout",
     "output_type": "stream",
     "text": [
      "1+\\frac{1}{1+\\frac{1}{2+\\frac{1}{3+\\frac{1}{5+\\frac{1}{8+\\frac{1}{13+\\frac{1}{21+\\frac{1}{34+\\frac{1}{55+\\frac{1}{89}}}}}}}}}}\n"
     ]
    }
   ],
   "source": [
    "# ------- fibonacci\n",
    "deep = 10\n",
    "a,b = 1,1\n",
    "s = \"1\"\n",
    "for i in range(deep):\n",
    "    a, b = b, a+b\n",
    "    s += \"+\\\\frac{1}{\"+str(a)\n",
    "s += \"}\"*deep\n",
    "print(s)\n"
   ]
  },
  {
   "cell_type": "markdown",
   "metadata": {},
   "source": [
    "# Fibbonacсi Continued Fraction\n",
    "\n",
    "$$\\small\n",
    "1+\\frac{1}{1+\\frac{1}{2+\\frac{1}{3+\\frac{1}{5+\\frac{1}{8+\\frac{1}{13+\\frac{1}{21+\\frac{1}{34+\\frac{1}{55+\\frac{1}{89}}}}}}}}}}\n",
    "$$"
   ]
  },
  {
   "cell_type": "markdown",
   "metadata": {},
   "source": [
    "1. $a_{0}$\n",
    "2. $\\dfrac{a_{0}a_{-1}+1}{a_{0}}$\n",
    "2. $\\dfrac{a_{0}a_{-1}a_{-2}+a_{0}+a_{-2}}{a_{0}a_{-1}+1}$\n",
    "3. $\\dfrac{a_{0}a_{-1}a_{-2}a_{-3}+a_{0}a_{-1}+a_{-3}a_{0}+a_{-3}a_{-2}}{a_{0}a_{-1}a_{-2}+a_{0}+a_{-2}}$"
   ]
  }
 ],
 "metadata": {
  "kernelspec": {
   "display_name": "Python 3 (ipykernel)",
   "language": "python",
   "name": "python3"
  },
  "language_info": {
   "codemirror_mode": {
    "name": "ipython",
    "version": 3
   },
   "file_extension": ".py",
   "mimetype": "text/x-python",
   "name": "python",
   "nbconvert_exporter": "python",
   "pygments_lexer": "ipython3",
   "version": "3.10.11"
  }
 },
 "nbformat": 4,
 "nbformat_minor": 4
}
