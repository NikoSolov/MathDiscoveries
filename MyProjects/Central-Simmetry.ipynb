{
 "cells": [
  {
   "cell_type": "code",
   "execution_count": 1,
   "metadata": {},
   "outputs": [
    {
     "name": "stdout",
     "output_type": "stream",
     "text": [
      "pygame 2.5.2 (SDL 2.28.3, Python 3.12.3)\n",
      "Hello from the pygame community. https://www.pygame.org/contribute.html\n"
     ]
    }
   ],
   "source": [
    "import pygame as pg\n",
    "from random import randint\n",
    "pg.init()\n",
    "clock=pg.time.Clock()\n",
    "#---------------------\n",
    "width,height=512,512\n",
    "centerCount=3\n",
    "alpha = 1\n",
    "#--------------------\n",
    "game=True\n",
    "root=pg.display.set_mode((width,height))\n",
    "\n",
    "class cen():\n",
    " list=[]\n",
    " def __init__(self,x,y):\n",
    "  self.x=x\n",
    "  self.y=y\n",
    "  cen.list.append(self)\n",
    "   \n",
    "class dot():\n",
    " list=[]\n",
    " def __init__(self,x,y):\n",
    "  self.x=x\n",
    "  self.y=y\n",
    "  dot.list.append(self)\n",
    "\n",
    "class ref():\n",
    " list=[]\n",
    " def get_sim(n):\n",
    "  ref.list=[]\n",
    "  for i in dot.list:\n",
    "   ref.list.append([i.x,i.y])\n",
    "\n",
    "  new=[]\n",
    "  for m in range(n):\n",
    "   for i in cen.list:\n",
    "    for j in ref.list:\n",
    "     new.append([2*i.x-j[0], 2*i.y-j[1]])\n",
    "   ref.list+=new\n",
    "  #print(len(new))\n",
    "\n",
    "def draw_all(root):\n",
    " for i in dot.list:\n",
    "  if (i.x>=0 and i.x<=width and i.y>=0 and i.y<=height):\n",
    "   pg.draw.circle(root, (255,255,255), (i.x,i.y), 5)\n",
    " for i in cen.list:\n",
    "  if (i.x>=0 and i.x<=width and i.y>=0 and i.y<=height):\n",
    "   pg.draw.circle(root, (0,255,255), (i.x,i.y), 5)\n",
    " for i in ref.list:\n",
    "#  print(i[0], i[1])\n",
    "  if (i[0]>=0 and i[0]<=width and i[1]>=0 and i[1]<=height):\n",
    "   pg.draw.circle(root, (0,255,0), (i[0], i[1]),5)\n",
    "\n",
    "my=dot(200,200)\n",
    "\n",
    "for i in range(centerCount):\n",
    " cen(randint(width//4, width//4*3), randint(height//4, height//4*3))\n",
    "\n",
    "surf=pg.Surface((width, height), pg.SRCALPHA)\n",
    "surf.fill((0,0,0))\n",
    "surf.set_alpha(alpha)\n",
    "while game:\n",
    " for event in pg.event.get():\n",
    "  if (event.type==pg.QUIT) or (event.type==pg.KEYDOWN and event.key==pg.K_ESCAPE):\n",
    "   game=False\n",
    " #root.fill((0,0,0))\n",
    " root.blit(surf, (0,0))\n",
    " my.x,my.y=pg.mouse.get_pos()\n",
    " ref.get_sim(3)\n",
    "# print(ref.list)\n",
    " draw_all(root)\n",
    "\n",
    " clock.tick(60)\n",
    " pg.display.update()\n",
    "\n",
    "pg.quit()"
   ]
  }
 ],
 "metadata": {
  "kernelspec": {
   "display_name": "Python 3",
   "language": "python",
   "name": "python3"
  },
  "language_info": {
   "codemirror_mode": {
    "name": "ipython",
    "version": 3
   },
   "file_extension": ".py",
   "mimetype": "text/x-python",
   "name": "python",
   "nbconvert_exporter": "python",
   "pygments_lexer": "ipython3",
   "version": "3.12.3"
  }
 },
 "nbformat": 4,
 "nbformat_minor": 2
}
