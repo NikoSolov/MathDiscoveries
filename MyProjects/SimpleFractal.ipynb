{
 "cells": [
  {
   "cell_type": "markdown",
   "metadata": {},
   "source": [
    "# Описание\n",
    "\n",
    "Самый простой фрактал"
   ]
  },
  {
   "cell_type": "code",
   "execution_count": 1,
   "metadata": {},
   "outputs": [
    {
     "name": "stdout",
     "output_type": "stream",
     "text": [
      "pygame 2.5.2 (SDL 2.28.3, Python 3.12.3)\n",
      "Hello from the pygame community. https://www.pygame.org/contribute.html\n"
     ]
    }
   ],
   "source": [
    "import pygame as pg\n",
    "pg.init()\n",
    "#---------------------------\n",
    "width,height=512,512\n",
    "startl=100\n",
    "n=12\n",
    "k=0.72#0.71\n",
    "#------------------------------\n",
    "root=pg.display.set_mode((width, height))\n",
    "clock=pg.time.Clock()\n",
    "game=True\n",
    "while game:\n",
    "    for event in pg.event.get():\n",
    "        if event.type==pg.QUIT or (event.type==pg.KEYDOWN and event.key==pg.K_ESCAPE):\n",
    "            game=False\n",
    "        if event.type == pg.KEYDOWN:\n",
    "            if event.key == pg.K_ESCAPE: game=False\n",
    "            if event.key == pg.K_z: n+=1\n",
    "            if event.key == pg.K_x: n-=1\n",
    "\t\t\n",
    "    keys=pg.key.get_pressed()\n",
    "    if keys[pg.K_UP]: startl+=1\n",
    "    if keys[pg.K_DOWN]: startl-=1\n",
    "    if keys[pg.K_RIGHT]: k+=0.001\n",
    "    if keys[pg.K_LEFT]: k-=0.001\n",
    "    \n",
    "    root.fill((0,0,0))\n",
    "    l=startl\n",
    "    a=[ [((width-l)//2, height//2),((width+l)//2, height//2)] ]\n",
    "    for i in range(1, n):\n",
    "        l=int(l*k)\n",
    "        d=a[2**(i-1)-1:2**i-1]\n",
    "        for z in d:\n",
    "            for j in z:\n",
    "                if i%2==0: a.append( [(j[0]-l//2,j[1]),(j[0]+l//2,j[1])] )\n",
    "                else: a.append( [(j[0],j[1]-l//2),(j[0],j[1]+l//2)] )\n",
    "    for i in a:\n",
    "        pg.draw.line(root,(255,255,255), i[0], i[1], 1)\n",
    "    pg.display.update()\n",
    "    clock.tick(60)\n",
    "pg.quit()"
   ]
  }
 ],
 "metadata": {
  "kernelspec": {
   "display_name": "Python 3",
   "language": "python",
   "name": "python3"
  },
  "language_info": {
   "codemirror_mode": {
    "name": "ipython",
    "version": 3
   },
   "file_extension": ".py",
   "mimetype": "text/x-python",
   "name": "python",
   "nbconvert_exporter": "python",
   "pygments_lexer": "ipython3",
   "version": "3.12.3"
  }
 },
 "nbformat": 4,
 "nbformat_minor": 2
}
