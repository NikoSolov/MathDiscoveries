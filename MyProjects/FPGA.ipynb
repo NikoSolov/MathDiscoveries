{
 "cells": [
  {
   "cell_type": "markdown",
   "metadata": {},
   "source": [
    "# Целочисленное деление на 10"
   ]
  },
  {
   "cell_type": "code",
   "execution_count": null,
   "metadata": {},
   "outputs": [],
   "source": [
    "def div10(x):\n",
    "    n = 20\n",
    "    a = x<<n\n",
    "    return (\n",
    "    (a>>4)+(a>>5)+\n",
    "    (a>>8)+(a>>9)+\n",
    "    (a>>12)+(a>>13)+\n",
    "    (a>>16)+(a>>17)+(a>>19)\n",
    "    )>>n\n",
    "\n",
    "diff = 0\n",
    "\n",
    "for i in range(1, 10000):\n",
    "    diff = max(diff, (i//10) - div10(i))\n",
    "    if (i//10 != div10(i)):\n",
    "        print(i, i//10, div10(i))\n",
    "\n",
    "print(diff)\n"
   ]
  }
 ],
 "metadata": {
  "language_info": {
   "name": "python"
  }
 },
 "nbformat": 4,
 "nbformat_minor": 2
}
