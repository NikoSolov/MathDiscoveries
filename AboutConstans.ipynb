{
 "cells": [
  {
   "cell_type": "markdown",
   "metadata": {},
   "source": [
    "# About PI $\\pi$ and $\\tau$\n",
    "\n",
    "$\\pi=\\dfrac{C}{d}$, $C$ - длина окружности, $d=2r$ - диаметр окружности\n",
    "\n",
    "$\\pi=\\dfrac{3.1415}{1}$, $C=3.14159265359$, $d=1$\n",
    "\n",
    "What IF\n",
    "$\\tau=C/r=2\\pi$\n",
    "\n",
    "$\\tau=\\dfrac{6.283}{1}$\n",
    "\n",
    "Then for circle with radius 1, \n",
    "Angles:\n",
    "- Circle = $\\tau$\n",
    "- Semi-circle = $\\tau/2$\n",
    "- Quarter-circle = $\\tau/4$\n",
    "\n",
    "# About Exponent $e$\n",
    "\n",
    "At that time when mathematicians defined **logarithm $\\log_{a}{b}=c$ and exponential function $a^{c}=b$** and starts **Calculus**, they asks the question: \"What derivative of $a^{x}$?\"\n",
    "Let's find out!\n",
    "$$\n",
    "\\lim\\limits_{\\Delta x\\to0}{\\dfrac{a^{x+\\Delta x}-a^{x}}{\\Delta x}}=\n",
    "a^{x}\\cdot\\lim\\limits_{\\Delta x\\to0}{\\dfrac{a^{\\Delta x}-1}{\\Delta x}}\n",
    "$$\n",
    "In this situation nothing come to mind instead of just calculate that limit for some values by hand.\n",
    "$$\n",
    "\\begin{array}{l}\n",
    "a=2: \\lim\\limits_{\\Delta x\\to0}{\\dfrac{2^{\\Delta x}-1}{\\Delta x}}=0.693147\\\\\n",
    "a=3: \\lim\\limits_{\\Delta x\\to0}{\\dfrac{3^{\\Delta x}-1}{\\Delta x}}=1.098612\\\\\n",
    "a=4: \\lim\\limits_{\\Delta x\\to0}{\\dfrac{4^{\\Delta x}-1}{\\Delta x}}=1.386294\\\\\n",
    "a=8: \\lim\\limits_{\\Delta x\\to0}{\\dfrac{8^{\\Delta x}-1}{\\Delta x}}=2.079441\\\\\n",
    "a=9: \\lim\\limits_{\\Delta x\\to0}{\\dfrac{9^{\\Delta x}-1}{\\Delta x}}=2.079441\n",
    "\\end{array}\n",
    "$$\n",
    "\n",
    "\n",
    "From this calculations comes are **statement** and **another question**.\n",
    "> **Statement**: let $g(x)=\\lim\\limits_{\\Delta x\\to0}{\\dfrac{x^{\\Delta x}-1}{\\Delta x}}$, then $2\\cdot g(k)=g(k^{2})$. This behavior reminds of **logarithmic function** $2\\cdot\\log_{a}{x}=\\log_{a}{x^{2}}$\n",
    "\n",
    ">**Question**: what $a$ should be for $\\lim\\limits_{\\Delta x\\to0}{\\dfrac{a^{\\Delta x}-1}{\\Delta x}}=1$\n",
    "\n",
    "$$\n",
    "\\begin{array}{l}\n",
    "\\dfrac{a^{\\Delta x}-1}{\\Delta x}=1\\to\n",
    "a^{\\Delta x}=\\Delta x+1\\to \\\\\n",
    "a=(1+\\Delta x)^{\\dfrac{1}{\\Delta x}}\\\\\n",
    "a=\\lim\\limits_{\\Delta x\\to0}{(1+\\Delta x)^{\\dfrac{1}{\\Delta x}}}=\n",
    "\\lim\\limits_{\\Delta x\\to\\infty}{\\left(1+\\dfrac{1}{\\Delta x}\\right)^{\\Delta x}}=e=2.\n",
    "\\end{array}\n",
    "$$\n",
    "# About Imaginary number $i$\n",
    "\n",
    "$\\sqrt{-1}$ is undefined. Ok. $i=\\sqrt{-1}$\n",
    "\n",
    "$$\n",
    "x^{2}+1=0\\to x=i=\\sqrt{-1}\n",
    "$$\n",
    "$$\\Large\n",
    "e^{\\pi i}+1=0\n",
    "$$\n"
   ]
  },
  {
   "cell_type": "markdown",
   "metadata": {},
   "source": [
    "$$\n",
    "\\sum\\limits_{i=0}^{n}{\\binom{i}{n}}=2^{n}\n",
    "$$"
   ]
  }
 ],
 "metadata": {
  "language_info": {
   "name": "python"
  }
 },
 "nbformat": 4,
 "nbformat_minor": 2
}
