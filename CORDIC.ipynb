{
 "cells": [
  {
   "cell_type": "markdown",
   "metadata": {},
   "source": [
    "Поворот вектора с помощью **матрицы поворота** на угол $\\alpha$\n",
    "\n",
    "$$\n",
    "\\begin{pmatrix} x' \\\\ y' \\end{pmatrix} = \n",
    "\\begin{pmatrix} \\cos{\\alpha} & \\pm\\sin{\\alpha} \\\\ \\mp\\sin{\\alpha} & \\cos{\\alpha} \\end{pmatrix} \\cdot\n",
    "\\begin{pmatrix} x_{0} \\\\ y_{0} \\end{pmatrix} = \n",
    "\\cos{\\alpha}\\cdot\\begin{pmatrix} 1 & \\pm\\tan{\\alpha} \\\\ \\mp\\tan{\\alpha} & 1 \\end{pmatrix} \\cdot\n",
    "\\begin{pmatrix} x_{0} \\\\ y_{0} \\end{pmatrix}\n",
    "$$\n",
    "\n",
    "По основному тригонометрическому тождеству\n",
    "\n",
    "$$\n",
    "\\cos^{2}{\\alpha}+\\sin^{2}{\\alpha}=1\\\\\n",
    "1+\\tan^{2}{\\alpha}=\\dfrac{1}{\\cos^{2}{\\alpha}}\\\\\n",
    "\\cos^{2}{\\alpha}=\\dfrac{1}{1+\\tan^{2}{\\alpha}}\n",
    "$$\n",
    "\n",
    "$$\n",
    "\\cos{\\alpha} = \\dfrac{1}{\\sqrt{\\tan^{2}{\\alpha}+1}} \\; \n",
    "\\sin{\\alpha} = \\dfrac{\\tan{\\alpha}}{\\sqrt{\\tan^{2}{\\alpha}+1}}\n",
    "$$\n",
    "При $\\alpha = \\arctan{(2^{-k})}, k\\in \\mathbb{N}$\n",
    "\n",
    "$$\n",
    "\\cos{\\alpha} = \\dfrac{1}{\\sqrt{2^{-2k}+1}} \\; \n",
    "\\sin{\\alpha} = \\dfrac{2^{-k}}{\\sqrt{2^{-2k}+1}} \\; \\tan{\\alpha} = 2^{-k}\n",
    "$$\n",
    "\n",
    "Подставим в матрицу поворота\n",
    "\n",
    "$$\n",
    "\\begin{pmatrix} x' \\\\ y' \\end{pmatrix} = \n",
    "\\dfrac{1}{\\sqrt{2^{-2k}+1}}\\cdot\\begin{pmatrix} 1 & \\pm2^{-k} \\\\ \\mp2^{-k} & 1 \\end{pmatrix} \\cdot\n",
    "\\begin{pmatrix} x_{0} \\\\ y_{0} \\end{pmatrix}\n",
    "$$\n",
    "\n",
    "Введем переменную $\\sigma_{i}$ с помощью которого определяется направление доворота до данного угла.\n",
    "\n",
    "$$\n",
    "\\begin{pmatrix} x' \\\\ y' \\end{pmatrix} = \n",
    "\\dfrac{1}{\\sqrt{2^{-2k}+1}}\\cdot\\begin{pmatrix} 1 & \\sigma_{i}\\cdot 2^{-k} \\\\ -\\sigma_{i}\\cdot 2^{-k} & 1 \\end{pmatrix} \\cdot\n",
    "\\begin{pmatrix} x_{0} \\\\ y_{0} \\end{pmatrix}\n",
    "$$\n",
    "\n",
    "Так как в методе происходит многочисленный доворот, то можно $\\dfrac{1}{\\sqrt{2^{-2k}+1}}$ заменить конечное произведение на посчитанную константу\n",
    "$$\n",
    "\\prod\\limits_{n=0}^{\\infty}{\\dfrac{1}{\\sqrt{2^{-2k}+1}}}=0.607252935009\n",
    "$$\n",
    "\n",
    "В итоге всего операций:\n",
    " - 2n сложений и сдвига вправо\n",
    " - 1 произведение\n",
    " \n",
    "\n"
   ]
  },
  {
   "cell_type": "code",
   "execution_count": 16,
   "metadata": {},
   "outputs": [
    {
     "data": {
      "text/plain": [
       "'.0100000000000000'"
      ]
     },
     "execution_count": 16,
     "metadata": {},
     "output_type": "execute_result"
    }
   ],
   "source": [
    "from fxpmath import Fxp\n",
    "\n",
    "x = Fxp(0.25, True, 16, 16)      # signed=True, n_word=16, n_frac=8\n",
    "\n",
    "x.bin(frac_dot=True)"
   ]
  },
  {
   "cell_type": "code",
   "execution_count": 8,
   "metadata": {},
   "outputs": [
    {
     "name": "stdout",
     "output_type": "stream",
     "text": [
      "0b1000\n"
     ]
    }
   ],
   "source": [
    "print(bin(1 << 3))"
   ]
  },
  {
   "cell_type": "code",
   "execution_count": 5,
   "metadata": {},
   "outputs": [
    {
     "name": "stdout",
     "output_type": "stream",
     "text": [
      "[np.float64(0.7853981633974483), np.float64(0.4636476090008061), np.float64(0.24497866312686414), np.float64(0.12435499454676144), np.float64(0.06241880999595735), np.float64(0.031239833430268277), np.float64(0.015623728620476831), np.float64(0.007812341060101111), np.float64(0.0039062301319669718), np.float64(0.0019531225164788188), np.float64(0.0009765621895593195), np.float64(0.0004882812111948983), np.float64(0.00024414062014936177), np.float64(0.00012207031189367021), np.float64(6.103515617420877e-05), np.float64(3.0517578115526096e-05), np.float64(1.5258789061315762e-05), np.float64(7.62939453110197e-06), np.float64(3.814697265606496e-06), np.float64(1.907348632810187e-06), np.float64(9.536743164059608e-07), np.float64(4.7683715820308884e-07), np.float64(2.3841857910155797e-07), np.float64(1.1920928955078068e-07), np.float64(5.960464477539055e-08), np.float64(2.9802322387695303e-08), np.float64(1.4901161193847655e-08), np.float64(7.450580596923828e-09), np.float64(3.725290298461914e-09), np.float64(1.862645149230957e-09)]\n",
      "1.4142135623730951\n",
      "1.3134123420146189\t0.8610357233488017\n"
     ]
    }
   ],
   "source": [
    "import math\n",
    "import numpy as np\n",
    "x0, y0 = 1, 0\n",
    "angle = 1\n",
    "atanTable=[]\n",
    "sec = 30\n",
    "for i in range(sec):\n",
    "    atanTable.append(np.atan(2**(-i)))\n",
    "print(atanTable)\n",
    "\n",
    "\n",
    "def CORDIC(x0, y0, angle):\n",
    "    x, y = x0, y0\n",
    "    s = angle\n",
    "    for i in range(16):\n",
    "        x = x + (1 if s-atanTable[i]<0 else -1)*(y * 2**(-i))\n",
    "        y = y - (1 if s-atanTable[i]<0 else -1)*(x * 2**(-i))\n",
    "        s += (-atanTable[i] if s > 0 else atanTable[i]) \n",
    "    print(x, y, sep=\"\\t\")\n",
    "    \n",
    "\n",
    "print(math.sqrt(2))\n",
    "CORDIC(1.0,0.0, math.pi/4)\n"
   ]
  },
  {
   "cell_type": "code",
   "execution_count": 2,
   "metadata": {},
   "outputs": [
    {
     "name": "stdout",
     "output_type": "stream",
     "text": [
      "-10 -0b1010\n",
      "-9 -0b1001\n",
      "-8 -0b1000\n",
      "-7 -0b111\n",
      "-6 -0b110\n",
      "-5 -0b101\n",
      "-4 -0b100\n",
      "-3 -0b11\n",
      "-2 -0b10\n",
      "-1 -0b1\n",
      "0 0b0\n",
      "1 0b1\n",
      "2 0b10\n",
      "3 0b11\n",
      "4 0b100\n",
      "5 0b101\n",
      "6 0b110\n",
      "7 0b111\n",
      "8 0b1000\n",
      "9 0b1001\n"
     ]
    }
   ],
   "source": [
    "for i in range(-10, 10):\n",
    "    print(i, bin(i))"
   ]
  },
  {
   "cell_type": "code",
   "execution_count": 2,
   "metadata": {},
   "outputs": [
    {
     "name": "stdout",
     "output_type": "stream",
     "text": [
      "0 0b100000000000000000000000000000\n",
      "1 0b10010111001000000010100011101\n",
      "2 0b1001111110110011100001011011\n",
      "3 0b101000100010001000111010100\n",
      "4 0b10100010110000110101000011\n",
      "5 0b1010001011101011111100001\n",
      "6 0b101000101111011000011110\n",
      "7 0b10100010111110001010101\n",
      "8 0b1010001011111001010011\n",
      "9 0b101000101111100101110\n",
      "10 0b10100010111110011000\n",
      "11 0b1010001011111001100\n",
      "12 0b101000101111100110\n",
      "13 0b10100010111110011\n",
      "14 0b1010001011111001\n",
      "15 0b101000101111100\n",
      "16 0b10100010111110\n",
      "17 0b1010001011111\n",
      "18 0b101000101111\n",
      "19 0b10100010111\n",
      "20 0b1010001011\n",
      "21 0b101000101\n",
      "22 0b10100010\n",
      "23 0b1010001\n",
      "24 0b101000\n",
      "25 0b10100\n",
      "26 0b1010\n",
      "27 0b101\n",
      "28 0b10\n",
      "29 0b1\n",
      "30 0b0\n"
     ]
    }
   ],
   "source": [
    "import math\n",
    "for i in range(0,31):\n",
    "    print(i,bin(int(math.atan(2**(-i))*(2**31)/math.pi)))"
   ]
  }
 ],
 "metadata": {
  "kernelspec": {
   "display_name": "Python 3",
   "language": "python",
   "name": "python3"
  },
  "language_info": {
   "codemirror_mode": {
    "name": "ipython",
    "version": 3
   },
   "file_extension": ".py",
   "mimetype": "text/x-python",
   "name": "python",
   "nbconvert_exporter": "python",
   "pygments_lexer": "ipython3",
   "version": "3.12.6"
  }
 },
 "nbformat": 4,
 "nbformat_minor": 2
}
